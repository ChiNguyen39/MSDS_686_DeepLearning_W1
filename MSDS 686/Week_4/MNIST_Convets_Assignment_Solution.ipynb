{
 "cells": [
  {
   "cell_type": "code",
   "execution_count": 1,
   "metadata": {},
   "outputs": [
    {
     "data": {
      "text/html": [
       "<style>.container { width:95% !important; }</style>"
      ],
      "text/plain": [
       "<IPython.core.display.HTML object>"
      ]
     },
     "metadata": {},
     "output_type": "display_data"
    }
   ],
   "source": [
    "from IPython.core.display import display, HTML\n",
    "display(HTML(\"<style>.container { width:95% !important; }</style>\"))"
   ]
  },
  {
   "cell_type": "markdown",
   "metadata": {},
   "source": [
    "Load the MNIST library which is part of Keras.  MNIST stands for Modified National Institute of Technology. https://en.wikipedia.org/wiki/MNIST_database. It is a collection of 60,000 training and 10,000 test images of the digits 0-9. https://keras.io/datasets/. Previously we gained about 98% accuracy in the model.  This time we will introduce convolutional neural networks (convets, or CNN) and see if we can improve the model. "
   ]
  },
  {
   "cell_type": "code",
   "execution_count": 2,
   "metadata": {
    "colab": {
     "base_uri": "https://localhost:8080/",
     "height": 35
    },
    "colab_type": "code",
    "id": "1AG-iMB8P3DZ",
    "outputId": "eb814ac6-7274-42a6-e4b4-9c2f2ad8e0ea"
   },
   "outputs": [
    {
     "name": "stderr",
     "output_type": "stream",
     "text": [
      "Using TensorFlow backend.\n"
     ]
    }
   ],
   "source": [
    "from keras.datasets import cifar100\n",
    "from keras import backend\n",
    "from keras import models\n",
    "from keras import layers\n",
    "from keras import regularizers\n",
    "from keras.layers.normalization import BatchNormalization\n",
    "from keras.callbacks import EarlyStopping\n",
    "from sklearn.model_selection import train_test_split\n",
    "from keras.utils import to_categorical\n",
    "import matplotlib.pyplot as plt\n",
    "import numpy as np"
   ]
  },
  {
   "cell_type": "code",
   "execution_count": 3,
   "metadata": {
    "colab": {},
    "colab_type": "code",
    "id": "5Efu6_zaQKtQ"
   },
   "outputs": [],
   "source": [
    "(train_images, train_labels),(test_images, test_labels) = cifar100.load_data(label_mode='fine')"
   ]
  },
  {
   "cell_type": "code",
   "execution_count": 4,
   "metadata": {
    "colab": {},
    "colab_type": "code",
    "id": "cEeckA5ESIMB"
   },
   "outputs": [],
   "source": [
    "train_images =  train_images.reshape((50000, 32, 32, 3))\n",
    "train_images = train_images.astype('float32')/train_images.max()\n",
    "\n",
    "test_images =  test_images.reshape((10000, 32, 32, 3))\n",
    "test_images = test_images.astype('float32')/test_images.max()"
   ]
  },
  {
   "cell_type": "code",
   "execution_count": 5,
   "metadata": {
    "colab": {},
    "colab_type": "code",
    "id": "zeczsZHUVDQx"
   },
   "outputs": [],
   "source": [
    "train_labels = to_categorical(train_labels)\n",
    "test_labels = to_categorical(test_labels)"
   ]
  },
  {
   "cell_type": "code",
   "execution_count": 6,
   "metadata": {},
   "outputs": [],
   "source": [
    "x_train, x_val, y_train, y_val = train_test_split(train_images, train_labels, test_size=0.25, random_state=42)"
   ]
  },
  {
   "cell_type": "code",
   "execution_count": 43,
   "metadata": {
    "colab": {
     "base_uri": "https://localhost:8080/",
     "height": 219
    },
    "colab_type": "code",
    "id": "w90ZrgWhVPC1",
    "outputId": "d0a61783-51aa-421c-ce79-84876c7677d7"
   },
   "outputs": [
    {
     "name": "stdout",
     "output_type": "stream",
     "text": [
      "Train on 50000 samples, validate on 12500 samples\n",
      "Epoch 1/50\n",
      "50000/50000 [==============================] - 436s 9ms/step - loss: 4.1449 - acc: 0.0780 - val_loss: 4.2148 - val_acc: 0.0961\n",
      "Epoch 2/50\n",
      "50000/50000 [==============================] - 428s 9ms/step - loss: 3.4185 - acc: 0.1850 - val_loss: 3.2005 - val_acc: 0.2285\n",
      "Epoch 3/50\n",
      "50000/50000 [==============================] - 428s 9ms/step - loss: 3.0089 - acc: 0.2601 - val_loss: 2.6977 - val_acc: 0.3210\n",
      "Epoch 4/50\n",
      "50000/50000 [==============================] - 429s 9ms/step - loss: 2.7101 - acc: 0.3256 - val_loss: 2.8172 - val_acc: 0.3256\n",
      "Epoch 5/50\n",
      "50000/50000 [==============================] - 429s 9ms/step - loss: 2.4801 - acc: 0.3696 - val_loss: 3.1254 - val_acc: 0.2894\n",
      "Epoch 6/50\n",
      "50000/50000 [==============================] - 439s 9ms/step - loss: 2.3032 - acc: 0.4094 - val_loss: 2.3420 - val_acc: 0.4148\n",
      "Epoch 7/50\n",
      "50000/50000 [==============================] - 367s 7ms/step - loss: 2.1739 - acc: 0.4398 - val_loss: 2.1692 - val_acc: 0.4653\n",
      "Epoch 8/50\n",
      "50000/50000 [==============================] - 380s 8ms/step - loss: 2.0485 - acc: 0.4680 - val_loss: 2.1521 - val_acc: 0.4398\n",
      "Epoch 9/50\n",
      "50000/50000 [==============================] - 440s 9ms/step - loss: 1.9454 - acc: 0.4934 - val_loss: 1.9143 - val_acc: 0.5100\n",
      "Epoch 10/50\n",
      "50000/50000 [==============================] - 438s 9ms/step - loss: 1.8429 - acc: 0.5144 - val_loss: 1.7278 - val_acc: 0.5438\n",
      "Epoch 11/50\n",
      "50000/50000 [==============================] - 438s 9ms/step - loss: 1.7592 - acc: 0.5372 - val_loss: 1.9517 - val_acc: 0.4809\n",
      "Epoch 12/50\n",
      "50000/50000 [==============================] - 449s 9ms/step - loss: 1.6762 - acc: 0.5569 - val_loss: 1.9557 - val_acc: 0.5179\n",
      "Epoch 13/50\n",
      "50000/50000 [==============================] - 446s 9ms/step - loss: 1.5812 - acc: 0.5821 - val_loss: 1.4581 - val_acc: 0.6229\n",
      "Epoch 14/50\n",
      "50000/50000 [==============================] - 440s 9ms/step - loss: 1.5001 - acc: 0.6002 - val_loss: 1.8198 - val_acc: 0.5670\n",
      "Epoch 15/50\n",
      "50000/50000 [==============================] - 439s 9ms/step - loss: 1.4756 - acc: 0.6073 - val_loss: 1.2807 - val_acc: 0.6502\n",
      "Epoch 16/50\n",
      "50000/50000 [==============================] - 438s 9ms/step - loss: 1.3926 - acc: 0.6320 - val_loss: 1.3914 - val_acc: 0.6511\n",
      "Epoch 17/50\n",
      "50000/50000 [==============================] - 437s 9ms/step - loss: 1.3099 - acc: 0.6510 - val_loss: 1.4405 - val_acc: 0.6284\n",
      "Epoch 18/50\n",
      "50000/50000 [==============================] - 437s 9ms/step - loss: 1.2521 - acc: 0.6659 - val_loss: 1.7391 - val_acc: 0.6322\n",
      "Epoch 19/50\n",
      "50000/50000 [==============================] - 436s 9ms/step - loss: 1.1965 - acc: 0.6826 - val_loss: 1.0724 - val_acc: 0.7135\n",
      "Epoch 20/50\n",
      "50000/50000 [==============================] - 436s 9ms/step - loss: 1.1402 - acc: 0.6980 - val_loss: 1.4485 - val_acc: 0.7123\n",
      "Epoch 21/50\n",
      "50000/50000 [==============================] - 448s 9ms/step - loss: 1.1074 - acc: 0.7078 - val_loss: 0.8104 - val_acc: 0.7698\n",
      "Epoch 22/50\n",
      "50000/50000 [==============================] - 438s 9ms/step - loss: 1.0390 - acc: 0.7229 - val_loss: 1.0071 - val_acc: 0.7586\n",
      "Epoch 23/50\n",
      "50000/50000 [==============================] - 394s 8ms/step - loss: 1.0349 - acc: 0.7297 - val_loss: 1.0861 - val_acc: 0.7314\n",
      "Epoch 24/50\n",
      "50000/50000 [==============================] - 362s 7ms/step - loss: 0.9622 - acc: 0.7476 - val_loss: 0.9040 - val_acc: 0.7550\n",
      "Epoch 25/50\n",
      "50000/50000 [==============================] - 435s 9ms/step - loss: 0.9238 - acc: 0.7588 - val_loss: 0.7737 - val_acc: 0.7954\n",
      "Epoch 26/50\n",
      "50000/50000 [==============================] - 435s 9ms/step - loss: 0.8915 - acc: 0.7684 - val_loss: 0.8485 - val_acc: 0.7794\n",
      "Epoch 27/50\n",
      "50000/50000 [==============================] - 435s 9ms/step - loss: 0.8651 - acc: 0.7774 - val_loss: 0.8574 - val_acc: 0.7892\n",
      "Epoch 28/50\n",
      "50000/50000 [==============================] - 435s 9ms/step - loss: 0.8264 - acc: 0.7866 - val_loss: 0.6356 - val_acc: 0.8288\n",
      "Epoch 29/50\n",
      "50000/50000 [==============================] - 435s 9ms/step - loss: 0.7954 - acc: 0.7953 - val_loss: 0.7903 - val_acc: 0.7941\n",
      "Epoch 30/50\n",
      "50000/50000 [==============================] - 435s 9ms/step - loss: 0.7560 - acc: 0.8032 - val_loss: 0.6689 - val_acc: 0.8277\n",
      "Epoch 31/50\n",
      "50000/50000 [==============================] - 436s 9ms/step - loss: 0.7625 - acc: 0.8082 - val_loss: 1.0036 - val_acc: 0.7727\n",
      "Epoch 32/50\n",
      "50000/50000 [==============================] - 435s 9ms/step - loss: 0.7325 - acc: 0.8172 - val_loss: 0.8462 - val_acc: 0.8381\n",
      "Epoch 33/50\n",
      "50000/50000 [==============================] - 435s 9ms/step - loss: 0.7265 - acc: 0.8190 - val_loss: 0.5813 - val_acc: 0.8496\n",
      "Epoch 34/50\n",
      "50000/50000 [==============================] - 435s 9ms/step - loss: 0.6938 - acc: 0.8276 - val_loss: 0.8139 - val_acc: 0.8029\n",
      "Epoch 35/50\n",
      "50000/50000 [==============================] - 435s 9ms/step - loss: 0.6839 - acc: 0.8326 - val_loss: 1.0460 - val_acc: 0.8106\n",
      "Epoch 36/50\n",
      "50000/50000 [==============================] - 436s 9ms/step - loss: 0.6841 - acc: 0.8334 - val_loss: 0.9645 - val_acc: 0.7954\n",
      "Epoch 37/50\n",
      "50000/50000 [==============================] - 437s 9ms/step - loss: 0.6492 - acc: 0.8410 - val_loss: 0.5847 - val_acc: 0.8727\n",
      "Epoch 38/50\n",
      "50000/50000 [==============================] - 442s 9ms/step - loss: 0.6312 - acc: 0.8468 - val_loss: 0.3728 - val_acc: 0.9071\n",
      "Epoch 39/50\n",
      "50000/50000 [==============================] - 442s 9ms/step - loss: 0.6353 - acc: 0.8495 - val_loss: 0.4034 - val_acc: 0.9026\n",
      "Epoch 40/50\n",
      "50000/50000 [==============================] - 443s 9ms/step - loss: 0.6087 - acc: 0.8556 - val_loss: 0.4019 - val_acc: 0.8936\n",
      "Epoch 41/50\n",
      "50000/50000 [==============================] - 442s 9ms/step - loss: 0.6117 - acc: 0.8558 - val_loss: 0.8455 - val_acc: 0.8505\n",
      "Epoch 42/50\n",
      "50000/50000 [==============================] - 442s 9ms/step - loss: 0.5694 - acc: 0.8636 - val_loss: 0.3270 - val_acc: 0.9202\n",
      "Epoch 43/50\n",
      "50000/50000 [==============================] - 451s 9ms/step - loss: 0.5713 - acc: 0.8656 - val_loss: 1.1860 - val_acc: 0.8090\n",
      "Epoch 44/50\n",
      "50000/50000 [==============================] - 336s 7ms/step - loss: 0.5675 - acc: 0.8693 - val_loss: 0.4614 - val_acc: 0.8841\n",
      "Epoch 45/50\n",
      "50000/50000 [==============================] - 442s 9ms/step - loss: 0.5617 - acc: 0.8711 - val_loss: 0.3288 - val_acc: 0.9130\n",
      "Epoch 46/50\n",
      "50000/50000 [==============================] - 442s 9ms/step - loss: 0.5750 - acc: 0.8709 - val_loss: 0.8125 - val_acc: 0.8686\n",
      "Epoch 47/50\n",
      "50000/50000 [==============================] - 442s 9ms/step - loss: 0.5629 - acc: 0.8748 - val_loss: 0.5029 - val_acc: 0.8965\n"
     ]
    },
    {
     "data": {
      "image/png": "[encoded data removed]",
      "text/plain": [
       "<Figure size 432x288 with 1 Axes>"
      ]
     },
     "metadata": {
      "needs_background": "light"
     },
     "output_type": "display_data"
    },
    {
     "data": {
      "image/png": "[encoded data removed]",
      "text/plain": [
       "<Figure size 432x288 with 1 Axes>"
      ]
     },
     "metadata": {
      "needs_background": "light"
     },
     "output_type": "display_data"
    },
    {
     "name": "stdout",
     "output_type": "stream",
     "text": [
      "10000/10000 [==============================] - 34s 3ms/step\n",
      "test_acc: 0.4784\n"
     ]
    }
   ],
   "source": [
    "backend.clear_session()\n",
    "model = models.Sequential()\n",
    "\n",
    "model.add(layers.Conv2D(64, (3,3), activation = 'relu', input_shape = (32, 32, 3)))\n",
    "model.add(layers.Conv2D(64, (3,3), activation = 'relu', padding='same'))\n",
    "model.add(layers.MaxPool2D((2,2)))\n",
    "model.add(BatchNormalization())\n",
    "#model.add(layers.Dropout(0.5))\n",
    "\n",
    "model.add(layers.Conv2D(256, (3,3), activation = 'relu', padding='same'))\n",
    "model.add(layers.Conv2D(256, (3,3), activation = 'relu', padding='same'))\n",
    "model.add(layers.MaxPool2D((2,2)))\n",
    "model.add(BatchNormalization())\n",
    "\n",
    "model.add(layers.Conv2D(512, (3,3), activation = 'relu', padding='same'))\n",
    "model.add(layers.Conv2D(512, (3,3), activation = 'relu', padding='same'))\n",
    "model.add(layers.MaxPool2D((2,2)))\n",
    "model.add(BatchNormalization())\n",
    "\n",
    "model.add(layers.Flatten())\n",
    "model.add(layers.Dense(512, activation='relu'))\n",
    "model.add(layers.Dense(512, activation='relu'))\n",
    "model.add(layers.Dropout(0.5))\n",
    "\n",
    "model.add(layers.Dense(100, activation='softmax'))\n",
    "\n",
    "model.compile(optimizer = 'rmsprop',\n",
    "               loss = 'categorical_crossentropy',\n",
    "               metrics = ['accuracy'])\n",
    "\n",
    "history = model.fit(train_images, \n",
    "          train_labels, \n",
    "          epochs = 50, \n",
    "          batch_size = 64,  \n",
    "          validation_data=(x_val, y_val),\n",
    "          verbose = 1,\n",
    "          callbacks=[EarlyStopping(monitor='val_acc', patience=5, restore_best_weights = True)])\n",
    "\n",
    "history_dict = history.history\n",
    "loss_values = history_dict['loss']\n",
    "val_loss_values = history_dict['val_loss']\n",
    "acc_values = history_dict['acc']\n",
    "val_acc_values = history_dict['val_acc']\n",
    "epochs = range(1, len(history_dict['acc']) + 1)\n",
    "\n",
    "plt.plot(epochs, loss_values, 'bo', label = 'Training loss')\n",
    "plt.plot(epochs, val_loss_values, 'b', label = 'Validation loss')\n",
    "plt.title('Training and validation loss')\n",
    "plt.xlabel('Epochs')\n",
    "plt.ylabel('Loss')\n",
    "plt.legend()\n",
    "plt.show()\n",
    "\n",
    "plt.plot(epochs, acc_values, 'bo', label = 'Training accuracy')\n",
    "plt.plot(epochs, val_acc_values, 'b', label = 'Validation accuracy')\n",
    "plt.title('Training and validation accuracy')\n",
    "plt.xlabel('Epochs')\n",
    "plt.ylabel('Accuracy')\n",
    "plt.legend()\n",
    "plt.show()\n",
    "\n",
    "test_loss, test_acc = model.evaluate(test_images, test_labels)\n",
    "print('test_acc:', test_acc)"
   ]
  },
  {
   "cell_type": "code",
   "execution_count": 44,
   "metadata": {},
   "outputs": [
    {
     "name": "stdout",
     "output_type": "stream",
     "text": [
      "10000/10000 [==============================] - 10s 962us/step\n",
      "test_acc: 0.4784\n"
     ]
    }
   ],
   "source": [
    "test_loss, test_acc = model.evaluate(test_images, test_labels)\n",
    "print('test_acc:', test_acc)"
   ]
  },
  {
   "cell_type": "code",
   "execution_count": null,
   "metadata": {},
   "outputs": [],
   "source": []
  }
 ],
 "metadata": {
  "accelerator": "GPU",
  "colab": {
   "name": "Deep Learning 'Hello MNIST'.ipynb",
   "provenance": [],
   "version": "0.3.2"
  },
  "kernelspec": {
   "display_name": "tensorflow",
   "language": "python",
   "name": "tensorflow"
  },
  "language_info": {
   "codemirror_mode": {
    "name": "ipython",
    "version": 3
   },
   "file_extension": ".py",
   "mimetype": "text/x-python",
   "name": "python",
   "nbconvert_exporter": "python",
   "pygments_lexer": "ipython3",
   "version": "3.6.8"
  }
 },
 "nbformat": 4,
 "nbformat_minor": 1
}
