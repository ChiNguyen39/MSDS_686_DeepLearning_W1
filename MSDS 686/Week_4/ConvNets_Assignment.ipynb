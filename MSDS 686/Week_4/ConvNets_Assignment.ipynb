{
  "cells": [
    {
      "cell_type": "markdown",
      "metadata": {},
      "source": [
        "# ConvNets Assignment"
      ]
    },
    {
      "cell_type": "code",
      "execution_count": null,
      "metadata": {
        "id": "oOmHx3THFoow"
      },
      "outputs": [],
      "source": [
        "from IPython.core.display import display, HTML\n",
        "display(HTML(\"<style>.container { width:95% !important; }</style>\"))"
      ]
    },
    {
      "cell_type": "markdown",
      "metadata": {
        "id": "6tNWtWOTFopU"
      },
      "source": [
        "This classification assignment will use the CIFAR 10 library which is part of Keras.https://keras.io/api/datasets/cifar10/ and https://www.cs.toronto.edu/~kriz/cifar.html. CIFAR 10 is a collection of 50,000 training and 10,000 test images of 10 differnt classes of objects.  Using convolutional neural networks (convets, or CNN) to get the model accuracy above 80%"
      ]
    },
    {
      "cell_type": "code",
      "execution_count": null,
      "metadata": {
        "id": "1AG-iMB8P3DZ"
      },
      "outputs": [],
      "source": [
        "# Load the libraries"
      ]
    },
    {
      "cell_type": "code",
      "execution_count": null,
      "metadata": {
        "id": "5Efu6_zaQKtQ"
      },
      "outputs": [],
      "source": [
        "# Load the CIFAR 10 library from Keras"
      ]
    },
    {
      "cell_type": "code",
      "execution_count": null,
      "metadata": {
        "id": "_U8U7BgPWgbO"
      },
      "outputs": [],
      "source": [
        "# View a few of the images"
      ]
    },
    {
      "cell_type": "code",
      "execution_count": null,
      "metadata": {
        "id": "cEeckA5ESIMB"
      },
      "outputs": [],
      "source": [
        "# Prepare the train and test images for a CNN"
      ]
    },
    {
      "cell_type": "code",
      "execution_count": null,
      "metadata": {
        "id": "zeczsZHUVDQx"
      },
      "outputs": [],
      "source": [
        "# Prepare the train and test labels for a CNN"
      ]
    },
    {
      "cell_type": "code",
      "execution_count": null,
      "metadata": {
        "id": "Lphyc_XgFoqB"
      },
      "outputs": [],
      "source": [
        "# Split the data into a train and validation block"
      ]
    },
    {
      "cell_type": "code",
      "execution_count": null,
      "metadata": {
        "id": "B4dm8_rF9mEl"
      },
      "outputs": [],
      "source": [
        "# Create a plot funtion like we did in the walk-though"
      ]
    },
    {
      "cell_type": "markdown",
      "metadata": {
        "id": "JS02L0lPtkA1"
      },
      "source": [
        "### Review literature for CNN architectures and build at least 3 different architectures with varying depths, kernels, and normalization functions.  Be sure to split your data into a validation block and monitor loss and accuracy with graphs.  Build, compile, monitor, validate, and test each CNN architecture in one cell.  Try to get one of your CNN architectures to have a test accauracy above 80%.  Plot your models to verify your arcitecture is correct.\n",
        "      \n",
        "#### Here are is a link that reviews different CNN architectures.\n",
        "#### https://medium.com/datadriveninvestor/five-powerful-cnn-architectures-b939c9ddd57b "
      ]
    },
    {
      "cell_type": "code",
      "execution_count": null,
      "metadata": {
        "id": "VjpZmFG50pcu"
      },
      "outputs": [],
      "source": []
    }
  ],
  "metadata": {
    "accelerator": "GPU",
    "colab": {
      "collapsed_sections": [],
      "name": "Convets_Assignment.ipynb",
      "provenance": []
    },
    "kernelspec": {
      "display_name": "Python 3",
      "name": "python3"
    },
    "language_info": {
      "codemirror_mode": {
        "name": "ipython",
        "version": 3
      },
      "file_extension": ".py",
      "mimetype": "text/x-python",
      "name": "python",
      "nbconvert_exporter": "python",
      "pygments_lexer": "ipython3",
      "version": "3.10.8"
    }
  },
  "nbformat": 4,
  "nbformat_minor": 0
}
