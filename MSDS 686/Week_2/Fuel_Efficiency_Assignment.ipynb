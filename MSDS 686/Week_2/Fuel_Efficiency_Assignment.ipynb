{
  "nbformat": 4,
  "nbformat_minor": 0,
  "metadata": {
    "colab": {
      "name": "Fuel_Efficiency_Assignment.ipynb",
      "provenance": [],
      "collapsed_sections": []
    },
    "kernelspec": {
      "display_name": "Python 3",
      "language": "python",
      "name": "python3"
    },
    "language_info": {
      "codemirror_mode": {
        "name": "ipython",
        "version": 3
      },
      "file_extension": ".py",
      "mimetype": "text/x-python",
      "name": "python",
      "nbconvert_exporter": "python",
      "pygments_lexer": "ipython3",
      "version": "3.6.8"
    }
  },
  "cells": [
    {
      "cell_type": "markdown",
      "metadata": {
        "id": "KVqVcVDo9aUi"
      },
      "source": [
        "# Fuel Efficiency Assingment\n",
        "## Adapted from TensorFlow Tutorials\n",
        "#### Using the Boston Housing jupyter notebook as an example follow the prompts below to build a neural network to predict vehicle fuel efficiency"
      ]
    },
    {
      "cell_type": "code",
      "metadata": {
        "id": "uuLZ2hhn9aUs"
      },
      "source": [
        "from IPython.core.display import display, HTML\n",
        "display(HTML(\"<style>.container { width:95% !important; }</style>\"))"
      ],
      "execution_count": null,
      "outputs": []
    },
    {
      "cell_type": "code",
      "metadata": {
        "id": "gB-uz88U9aVH"
      },
      "source": [
        "# Import the necessary libraries\n",
        "import matplotlib.pyplot as plt\n",
        "import pandas as pd\n",
        "import tensorflow as tf\n",
        "from tensorflow import keras\n",
        "from sklearn.model_selection import train_test_split\n",
        "from tensorflow.keras import models\n",
        "from tensorflow.keras import layers\n",
        "from tensorflow.keras import backend\n"
      ],
      "execution_count": null,
      "outputs": []
    },
    {
      "cell_type": "code",
      "metadata": {
        "id": "xHSh7Wz79iiN"
      },
      "source": [
        "# Download the dataset\n",
        "dataset_path = keras.utils.get_file(\"auto-mpg.data\", \"http://archive.ics.uci.edu/ml/machine-learning-databases/auto-mpg/auto-mpg.data\")"
      ],
      "execution_count": null,
      "outputs": []
    },
    {
      "cell_type": "code",
      "metadata": {
        "id": "joNdceRk9aVX"
      },
      "source": [
        "# Add labels to columns and view dataset\n",
        "column_names = ['MPG','Cylinders','Displacement','Horsepower','Weight',\n",
        "                'Acceleration', 'Model Year', 'Origin']\n",
        "raw_dataset = pd.read_csv(dataset_path, names=column_names,\n",
        "                      na_values = \"?\", comment='\\t',\n",
        "                      sep=\" \", skipinitialspace=True)\n",
        "\n",
        "dataset = raw_dataset.copy()\n",
        "dataset.tail()"
      ],
      "execution_count": null,
      "outputs": []
    },
    {
      "cell_type": "code",
      "metadata": {
        "id": "g_McGq3q_MPS"
      },
      "source": [
        "# Vehicle orgin needs to be encoded to factors.  \n",
        "origin = dataset.pop('Origin')\n",
        "dataset['USA'] = (origin == 1)*1.0\n",
        "dataset['Europe'] = (origin == 2)*1.0\n",
        "dataset['Japan'] = (origin == 3)*1.0\n",
        "dataset.tail()"
      ],
      "execution_count": null,
      "outputs": []
    },
    {
      "cell_type": "code",
      "metadata": {
        "id": "cQWXC9pi_DHE"
      },
      "source": [
        "# Remove missing data\n"
      ],
      "execution_count": null,
      "outputs": []
    },
    {
      "cell_type": "code",
      "metadata": {
        "id": "sKLtoKX2OTvJ"
      },
      "source": [
        "# Split dataset into y tragets and remove the targets from the dataset.  We are predicting MPG (fuel efficiencey) so the targets are MPG\n"
      ],
      "execution_count": null,
      "outputs": []
    },
    {
      "cell_type": "code",
      "metadata": {
        "id": "EADoX6GgN22P"
      },
      "source": [
        "# Spit the dataset into x_train, x_test, y_train, y_test.  \n"
      ],
      "execution_count": null,
      "outputs": []
    },
    {
      "cell_type": "code",
      "metadata": {
        "id": "zwsKJwj_PNZa"
      },
      "source": [
        "# Normalize the data by subratcing the mean from each feature and divid by one standard deviation\n"
      ],
      "execution_count": null,
      "outputs": []
    },
    {
      "cell_type": "code",
      "metadata": {
        "id": "XX2i2EUn_BHT"
      },
      "source": [
        "# Built a sequential neural network model.  Start with backend.clear_session()\n",
        "# Think about what activation function you will use, the input shape, number of nodes, and output shape and activation\n"
      ],
      "execution_count": null,
      "outputs": []
    },
    {
      "cell_type": "code",
      "metadata": {
        "id": "A3mv0oLBR3XW"
      },
      "source": [
        "# Compile the model.  Use 'rmsprop' optimizer.  Think about what loss function and metrics you need to use for a regression problem and add it below.\n",
        "model.compile(optimizer = 'rmsprop', loss  = , metrics=['mae'])"
      ],
      "execution_count": null,
      "outputs": []
    },
    {
      "cell_type": "code",
      "metadata": {
        "id": "vJ8KVfLF_Hv1"
      },
      "source": [
        "# Fit the model.  Use 1000 epochs.  Add a validation spit to your model.  Set verbose = 0.\n"
      ],
      "execution_count": null,
      "outputs": []
    },
    {
      "cell_type": "code",
      "metadata": {
        "id": "oRfKjuM8UB5T"
      },
      "source": [
        "# Use this bit of code to view the History output.\n",
        "hist = pd.DataFrame(history.history)\n",
        "print(hist.tail())"
      ],
      "execution_count": null,
      "outputs": []
    },
    {
      "cell_type": "code",
      "metadata": {
        "id": "Hr819dPc9aXk"
      },
      "source": [
        "#Plot the loss and MAE vs epochs\n"
      ],
      "execution_count": null,
      "outputs": []
    },
    {
      "cell_type": "code",
      "metadata": {
        "id": "TXiqSkQo9aXs"
      },
      "source": [
        "# Use the Boston Housing example to plot the validataion and training loss vs epochs\n"
      ],
      "execution_count": null,
      "outputs": []
    },
    {
      "cell_type": "code",
      "metadata": {
        "id": "04CcZh8x9aYH"
      },
      "source": [
        "# Use the Boston Housing example to plot the validataion and training mean absolute error vs epochs\n"
      ],
      "execution_count": null,
      "outputs": []
    },
    {
      "cell_type": "code",
      "metadata": {
        "id": "7RRZWTz_9aYR"
      },
      "source": [
        "# Evaluate the model on the test data and print the results\n"
      ],
      "execution_count": null,
      "outputs": []
    },
    {
      "cell_type": "code",
      "metadata": {
        "id": "qyRudHeQdRLt"
      },
      "source": [
        "# Clear your session using this command: backend.clear_session() \n",
        "# Build a new model and try to get the MAE as low as you can.  Copy your best model \n",
        "# Things to try: more hidden layers and hiddent units, activation types, epochs, batch size, and validation_split.\n",
        "# Try as many models as you like.  Be sure to clear the session each time:  backend.clear_session() "
      ],
      "execution_count": null,
      "outputs": []
    },
    {
      "cell_type": "markdown",
      "source": [
        "Clear your session using this command: backend.clear_session(). Build a new model and try to get the MAE as low as you can.  Copy your best model and place it at the end of the notebook.\n",
        "\n",
        "\n",
        "Things to try: more hidden layers and hiddent units, activation types, epochs, batch size, and validation_split.\n",
        "Try as many models as you like.  Be sure to clear the session each time and copy your best model to the end of the notebook.\n"
      ],
      "metadata": {
        "id": "3hDjoWArs6r-"
      }
    },
    {
      "cell_type": "code",
      "source": [],
      "metadata": {
        "id": "oadmVPacs6HD"
      },
      "execution_count": null,
      "outputs": []
    }
  ]
}