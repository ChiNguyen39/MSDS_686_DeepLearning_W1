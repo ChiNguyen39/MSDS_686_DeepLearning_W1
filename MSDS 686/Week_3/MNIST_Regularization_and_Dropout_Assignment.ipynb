{
  "cells": [
    {
      "attachments": {},
      "cell_type": "markdown",
      "metadata": {
        "colab_type": "text",
        "id": "view-in-github"
      },
      "source": [
        "<a href=\"https://colab.research.google.com/github/Mrsnellek/MSDS_686_22F8W2/blob/23S8W1/MSDS%20686/Week_3/MNIST_Regularization_and_Dropout_Assignment.ipynb\" target=\"_parent\"><img src=\"https://colab.research.google.com/assets/colab-badge.svg\" alt=\"Open In Colab\"/></a>"
      ]
    },
    {
      "attachments": {},
      "cell_type": "markdown",
      "metadata": {
        "id": "_r8s67aB71I1"
      },
      "source": [
        "# MNIST Digits Regularization and Dropout Assignment\n",
        "## Adapted from Deep Learning with Python by Francois Chollet\n",
        "#### Use the MNIST digit dataset to classify digits 0 - 9 into 10 different categories.  Use regularization and early stopping to improve your neural network."
      ]
    },
    {
      "cell_type": "code",
      "execution_count": null,
      "metadata": {
        "id": "yc0j1J9b71I-"
      },
      "outputs": [],
      "source": [
        "from IPython.core.display import display, HTML\n",
        "display(HTML(\"<style>.container { width:95% !important; }</style>\"))"
      ]
    },
    {
      "cell_type": "code",
      "execution_count": null,
      "metadata": {
        "id": "GMp26fFZ71JX"
      },
      "outputs": [],
      "source": [
        "# Import all the necessary libraries \n"
      ]
    },
    {
      "cell_type": "code",
      "execution_count": null,
      "metadata": {
        "id": "wyp2G_Q-71Jr"
      },
      "outputs": [],
      "source": [
        "# Import the MNIST data set from the Keras library. https://keras.io/datasets/\n"
      ]
    },
    {
      "cell_type": "code",
      "execution_count": null,
      "metadata": {
        "id": "sjBk4aI_71Ka"
      },
      "outputs": [],
      "source": [
        "# Reshape and normalize the images for your neural net\n"
      ]
    },
    {
      "cell_type": "code",
      "execution_count": null,
      "metadata": {
        "id": "osIdNen50r3m"
      },
      "outputs": [],
      "source": [
        "# Convert the labels into categorical values.\n"
      ]
    },
    {
      "cell_type": "code",
      "execution_count": null,
      "metadata": {
        "id": "Cff1-XMa71Ki"
      },
      "outputs": [],
      "source": [
        "# Split the data into training and validation\n"
      ]
    },
    {
      "attachments": {},
      "cell_type": "markdown",
      "metadata": {
        "id": "EN7Sq5sa71Ks"
      },
      "source": [
        "# In each Jupiter Notebook cell build a model using your test and validation data, show loss and accuracy monitoring graphs, and evaluate your model on the test data all in one cell.  \n",
        "\n",
        "# Build at least 7 different models. Comment in the cell or use markdown above the code cell to explain what you are changing/testing in the subsequent model. \n",
        "\n",
        "# Build models with different learning rates, batch sizes, dropout, and hidden layers and nodes.  Be strategic in how you go about optomizing your model. The last model of your notebook should be your best model. \n"
      ]
    },
    {
      "cell_type": "code",
      "execution_count": null,
      "metadata": {
        "id": "cv6GUFDb71Mg"
      },
      "outputs": [],
      "source": []
    },
    {
      "cell_type": "markdown",
      "metadata": {
        "id": "YO3M0qh471Mq"
      },
      "source": [
        "### Comment on which techniques/methods you used to build the best model with the highest accuracy.  "
      ]
    },
    {
      "cell_type": "markdown",
      "metadata": {
        "id": "kh3e_7xm6z4a"
      },
      "source": []
    }
  ],
  "metadata": {
    "accelerator": "GPU",
    "colab": {
      "collapsed_sections": [],
      "include_colab_link": true,
      "provenance": []
    },
    "kernelspec": {
      "display_name": "Python 3",
      "language": "python",
      "name": "python3"
    },
    "language_info": {
      "codemirror_mode": {
        "name": "ipython",
        "version": 3
      },
      "file_extension": ".py",
      "mimetype": "text/x-python",
      "name": "python",
      "nbconvert_exporter": "python",
      "pygments_lexer": "ipython3",
      "version": "3.6.8"
    }
  },
  "nbformat": 4,
  "nbformat_minor": 0
}
