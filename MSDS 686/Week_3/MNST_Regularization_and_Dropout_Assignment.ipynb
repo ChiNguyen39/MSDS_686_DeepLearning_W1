{
  "nbformat": 4,
  "nbformat_minor": 0,
  "metadata": {
    "kernelspec": {
      "display_name": "Python 3",
      "language": "python",
      "name": "python3"
    },
    "language_info": {
      "codemirror_mode": {
        "name": "ipython",
        "version": 3
      },
      "file_extension": ".py",
      "mimetype": "text/x-python",
      "name": "python",
      "nbconvert_exporter": "python",
      "pygments_lexer": "ipython3",
      "version": "3.6.8"
    },
    "colab": {
      "provenance": [],
      "collapsed_sections": [],
      "include_colab_link": true
    },
    "accelerator": "GPU"
  },
  "cells": [
    {
      "cell_type": "markdown",
      "metadata": {
        "id": "view-in-github",
        "colab_type": "text"
      },
      "source": [
        "<a href=\"https://colab.research.google.com/github/Mrsnellek/MSDS_686/blob/22F8W2/MSDS%20686/Week_3/MNST_Regularization_and_Dropout_Assignment.ipynb\" target=\"_parent\"><img src=\"https://colab.research.google.com/assets/colab-badge.svg\" alt=\"Open In Colab\"/></a>"
      ]
    },
    {
      "cell_type": "markdown",
      "metadata": {
        "id": "_r8s67aB71I1"
      },
      "source": [
        "# MNIST Digits Regularization and Dropout Assignment\n",
        "## Adapted from Deep Learning with Python by Francois Chollet\n",
        "#### Use the MNIST diget dataset to classify digits 0 - 9 into 10 different categories.  Use regularization and early stopping call backs to improve your neural network."
      ]
    },
    {
      "cell_type": "code",
      "metadata": {
        "id": "yc0j1J9b71I-"
      },
      "source": [
        "from IPython.core.display import display, HTML\n",
        "display(HTML(\"<style>.container { width:95% !important; }</style>\"))"
      ],
      "execution_count": null,
      "outputs": []
    },
    {
      "cell_type": "code",
      "metadata": {
        "id": "GMp26fFZ71JX"
      },
      "source": [
        "# Import all the necessary libraries \n"
      ],
      "execution_count": null,
      "outputs": []
    },
    {
      "cell_type": "code",
      "metadata": {
        "id": "wyp2G_Q-71Jr"
      },
      "source": [
        "# Import the MNST data set from the Keras library. https://keras.io/datasets/\n"
      ],
      "execution_count": null,
      "outputs": []
    },
    {
      "cell_type": "code",
      "metadata": {
        "id": "sjBk4aI_71Ka"
      },
      "source": [
        "# Reshape and normalize the images for your neural net\n"
      ],
      "execution_count": null,
      "outputs": []
    },
    {
      "cell_type": "code",
      "source": [
        "# Convert the labels into categorial values.\n"
      ],
      "metadata": {
        "id": "osIdNen50r3m"
      },
      "execution_count": null,
      "outputs": []
    },
    {
      "cell_type": "code",
      "metadata": {
        "id": "Cff1-XMa71Ki"
      },
      "source": [
        "# Split the data into training and validation\n"
      ],
      "execution_count": null,
      "outputs": []
    },
    {
      "cell_type": "markdown",
      "metadata": {
        "id": "EN7Sq5sa71Ks"
      },
      "source": [
        "# In each Jupiter Notebook cell build a model using your test and validation data, show loss and accuracy monitoring graphs, and evaluate your model on the test data all in one cell.  \n",
        "\n",
        "# Build at least 7 different models. Comment in the cell or use markdown above the code cell to explain what you are changing/testing in the subsiquent model. \n",
        "\n",
        "# Build models with different learning rates, batch sizes, dropout, and hidden layers and nodes.  Be strategic in how you go about optomizing your model. The last model of your notebook should be your best model. \n"
      ]
    },
    {
      "cell_type": "code",
      "metadata": {
        "id": "cv6GUFDb71Mg"
      },
      "source": [],
      "execution_count": null,
      "outputs": []
    },
    {
      "cell_type": "markdown",
      "metadata": {
        "id": "YO3M0qh471Mq"
      },
      "source": [
        "### Comment on which techniques/methods you used to build the best model with the highest accuracy.  "
      ]
    },
    {
      "cell_type": "markdown",
      "source": [],
      "metadata": {
        "id": "kh3e_7xm6z4a"
      }
    }
  ]
}