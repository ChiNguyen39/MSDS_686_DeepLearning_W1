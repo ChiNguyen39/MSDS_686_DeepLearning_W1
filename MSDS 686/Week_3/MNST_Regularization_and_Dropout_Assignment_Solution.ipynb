{
  "nbformat": 4,
  "nbformat_minor": 0,
  "metadata": {
    "kernelspec": {
      "display_name": "Python 3",
      "language": "python",
      "name": "python3"
    },
    "language_info": {
      "codemirror_mode": {
        "name": "ipython",
        "version": 3
      },
      "file_extension": ".py",
      "mimetype": "text/x-python",
      "name": "python",
      "nbconvert_exporter": "python",
      "pygments_lexer": "ipython3",
      "version": "3.6.8"
    },
    "colab": {
      "provenance": [],
      "collapsed_sections": [],
      "include_colab_link": true
    },
    "accelerator": "GPU"
  },
  "cells": [
    {
      "cell_type": "markdown",
      "metadata": {
        "id": "view-in-github",
        "colab_type": "text"
      },
      "source": [
        "<a href=\"https://colab.research.google.com/github/Mrsnellek/MSDS_686/blob/22F8W2/MSDS%20686/Week_3/MNST_Regularization_and_Dropout_Assignment_Solution.ipynb\" target=\"_parent\"><img src=\"https://colab.research.google.com/assets/colab-badge.svg\" alt=\"Open In Colab\"/></a>"
      ]
    },
    {
      "cell_type": "markdown",
      "metadata": {
        "id": "_r8s67aB71I1"
      },
      "source": [
        "# MNIST Digits Regularization and Dropout Assignment\n",
        "## Adapted from Deep Learning with Python by Francois Chollet\n",
        "#### Use the MNIST diget dataset to classify digits 0 - 9 into 10 different categories.  Use regularization and early stopping call backs to improve your neural network."
      ]
    },
    {
      "cell_type": "code",
      "metadata": {
        "id": "yc0j1J9b71I-",
        "colab": {
          "base_uri": "https://localhost:8080/",
          "height": 17
        },
        "outputId": "873c67c5-32cd-42be-d3d8-2ab645728a77"
      },
      "source": [
        "from IPython.core.display import display, HTML\n",
        "display(HTML(\"<style>.container { width:95% !important; }</style>\"))"
      ],
      "execution_count": null,
      "outputs": [
        {
          "output_type": "display_data",
          "data": {
            "text/plain": [
              "<IPython.core.display.HTML object>"
            ],
            "text/html": [
              "<style>.container { width:95% !important; }</style>"
            ]
          },
          "metadata": {}
        }
      ]
    },
    {
      "cell_type": "code",
      "metadata": {
        "id": "GMp26fFZ71JX"
      },
      "source": [
        "# Import all the necessary libraries \n",
        "import numpy as np\n",
        "np.random.seed(1)\n",
        "import pandas as pd\n",
        "import matplotlib.pyplot as plt\n",
        "from sklearn.model_selection import train_test_split\n",
        "from tensorflow import keras\n",
        "from tensorflow.keras import models, layers, regularizers\n",
        "from tensorflow.keras.layers import Flatten, Dense, Dropout\n",
        "from tensorflow.keras.callbacks import EarlyStopping\n",
        "from tensorflow.keras import backend"
      ],
      "execution_count": null,
      "outputs": []
    },
    {
      "cell_type": "code",
      "metadata": {
        "id": "wyp2G_Q-71Jr",
        "colab": {
          "base_uri": "https://localhost:8080/"
        },
        "outputId": "3f8be9d3-359d-44e9-b812-c7f0708740e5"
      },
      "source": [
        "# Import the MNST data set from the Keras library. https://keras.io/datasets/\n",
        "from tensorflow.keras.datasets import mnist\n",
        "(train_images, train_labels),(test_images, test_labels) = mnist.load_data()"
      ],
      "execution_count": null,
      "outputs": [
        {
          "output_type": "stream",
          "name": "stdout",
          "text": [
            "Downloading data from https://storage.googleapis.com/tensorflow/tf-keras-datasets/mnist.npz\n",
            "11493376/11490434 [==============================] - 0s 0us/step\n",
            "11501568/11490434 [==============================] - 0s 0us/step\n"
          ]
        }
      ]
    },
    {
      "cell_type": "code",
      "metadata": {
        "id": "sjBk4aI_71Ka"
      },
      "source": [
        "# Reshape and normalize the images for your neural net\n",
        "train_images =  train_images.reshape((60000, 28 * 28))\n",
        "train_images = train_images.astype('float32')/train_images.max()\n",
        "\n",
        "test_images =  test_images.reshape((10000, 28 * 28))\n",
        "test_images = test_images.astype('float32')/test_images.max()"
      ],
      "execution_count": null,
      "outputs": []
    },
    {
      "cell_type": "code",
      "source": [
        "# Convert the labels into categorial values.\n",
        "from tensorflow.keras.utils import to_categorical\n",
        "train_labels = to_categorical(train_labels)\n",
        "test_labels = to_categorical(test_labels)"
      ],
      "metadata": {
        "id": "osIdNen50r3m"
      },
      "execution_count": null,
      "outputs": []
    },
    {
      "cell_type": "code",
      "metadata": {
        "id": "Cff1-XMa71Ki"
      },
      "source": [
        "# Split the data into training and validation\n",
        "x_train, x_val, y_train, y_val = train_test_split(train_images, train_labels, test_size=0.25, random_state=42)"
      ],
      "execution_count": null,
      "outputs": []
    },
    {
      "cell_type": "markdown",
      "metadata": {
        "id": "EN7Sq5sa71Ks"
      },
      "source": [
        "# In each Jupiter Notebook cell build a model using your test and validation data, show loss and accuracy monitoring graphs, and evaluate your model on the test data all in one cell.  \n",
        "\n",
        "# Build at least 7 different models. Comment in the cell or use markdown above the code cell to explain what you are changing/testing in the subsiquent model. \n",
        "\n",
        "# Build models with different learning rates, batch sizes, dropout, and hidden layers and nodes.  Be strategic in how you go about optomizing your model. The last model of your notebook should be your best model. \n"
      ]
    },
    {
      "cell_type": "code",
      "metadata": {
        "id": "cv6GUFDb71Mg",
        "colab": {
          "base_uri": "https://localhost:8080/",
          "height": 1000
        },
        "outputId": "89995bcf-7e96-49f6-e06b-b330b810ddc6"
      },
      "source": [
        "backend.clear_session()\n",
        "model = models.Sequential()\n",
        "model.add(layers.Dense(1024, activation = 'relu', input_shape = (train_images.shape[1],)))\n",
        "model.add(layers.Dropout(0.5))\n",
        "model.add(layers.Dense(1024, activation = 'relu'))\n",
        "model.add(layers.Dropout(0.5))\n",
        "model.add(layers.Dense(1024, activation = 'relu'))\n",
        "model.add(layers.Dropout(0.5))\n",
        "model.add(layers.Dense(10, activation = 'softmax'))\n",
        "\n",
        "model.compile(optimizer=keras.optimizers.RMSprop(0.0004),\n",
        "             loss = 'categorical_crossentropy',\n",
        "             metrics = ['accuracy'])\n",
        "\n",
        "history = model.fit(x_train,\n",
        "              y_train,\n",
        "              epochs = 100,\n",
        "              batch_size = 128,\n",
        "              validation_data = (x_val, y_val),\n",
        "              verbose = 2,\n",
        "              callbacks=[EarlyStopping(monitor='val_accuracy', patience=5, restore_best_weights = True)])\n",
        "\n",
        "history_dict = history.history\n",
        "loss_values = history_dict['loss']\n",
        "val_loss_values = history_dict['val_loss']\n",
        "acc_values = history_dict['accuracy']\n",
        "val_acc_values = history_dict['val_accuracy']\n",
        "epochs = range(1, len(history_dict['accuracy']) + 1)\n",
        "\n",
        "plt.plot(epochs, val_loss_values, 'bo', label = 'Validation loss')\n",
        "plt.title('Validation loss')\n",
        "plt.xlabel('Epochs')\n",
        "plt.ylabel('Loss')\n",
        "plt.legend()\n",
        "plt.show()\n",
        "\n",
        "plt.plot(epochs, val_acc_values, 'bo', label = 'Validation Accuracy')\n",
        "plt.title('Validation Accuracy')\n",
        "plt.xlabel('Epochs')\n",
        "plt.ylabel('Accuracy')\n",
        "plt.legend()\n",
        "plt.show()\n",
        "\n",
        "results = model.evaluate(test_images, test_labels)\n",
        "print(model.metrics_names)\n",
        "print(results)"
      ],
      "execution_count": null,
      "outputs": [
        {
          "output_type": "stream",
          "name": "stdout",
          "text": [
            "Epoch 1/100\n",
            "352/352 - 2s - loss: 0.4322 - accuracy: 0.8655 - val_loss: 0.1559 - val_accuracy: 0.9530 - 2s/epoch - 7ms/step\n",
            "Epoch 2/100\n",
            "352/352 - 1s - loss: 0.1833 - accuracy: 0.9459 - val_loss: 0.1194 - val_accuracy: 0.9655 - 1s/epoch - 4ms/step\n",
            "Epoch 3/100\n",
            "352/352 - 2s - loss: 0.1374 - accuracy: 0.9587 - val_loss: 0.1002 - val_accuracy: 0.9708 - 2s/epoch - 4ms/step\n",
            "Epoch 4/100\n",
            "352/352 - 2s - loss: 0.1152 - accuracy: 0.9662 - val_loss: 0.1014 - val_accuracy: 0.9725 - 2s/epoch - 4ms/step\n",
            "Epoch 5/100\n",
            "352/352 - 2s - loss: 0.0979 - accuracy: 0.9713 - val_loss: 0.0963 - val_accuracy: 0.9737 - 2s/epoch - 4ms/step\n",
            "Epoch 6/100\n",
            "352/352 - 2s - loss: 0.0908 - accuracy: 0.9739 - val_loss: 0.0933 - val_accuracy: 0.9769 - 2s/epoch - 4ms/step\n",
            "Epoch 7/100\n",
            "352/352 - 1s - loss: 0.0799 - accuracy: 0.9779 - val_loss: 0.0994 - val_accuracy: 0.9762 - 1s/epoch - 4ms/step\n",
            "Epoch 8/100\n",
            "352/352 - 2s - loss: 0.0722 - accuracy: 0.9796 - val_loss: 0.0906 - val_accuracy: 0.9785 - 2s/epoch - 4ms/step\n",
            "Epoch 9/100\n",
            "352/352 - 1s - loss: 0.0693 - accuracy: 0.9813 - val_loss: 0.1032 - val_accuracy: 0.9785 - 1s/epoch - 4ms/step\n",
            "Epoch 10/100\n",
            "352/352 - 1s - loss: 0.0647 - accuracy: 0.9817 - val_loss: 0.0953 - val_accuracy: 0.9797 - 1s/epoch - 4ms/step\n",
            "Epoch 11/100\n",
            "352/352 - 1s - loss: 0.0608 - accuracy: 0.9835 - val_loss: 0.1106 - val_accuracy: 0.9794 - 1s/epoch - 4ms/step\n",
            "Epoch 12/100\n",
            "352/352 - 1s - loss: 0.0595 - accuracy: 0.9845 - val_loss: 0.1181 - val_accuracy: 0.9784 - 1s/epoch - 4ms/step\n",
            "Epoch 13/100\n",
            "352/352 - 1s - loss: 0.0586 - accuracy: 0.9838 - val_loss: 0.1152 - val_accuracy: 0.9787 - 1s/epoch - 4ms/step\n",
            "Epoch 14/100\n",
            "352/352 - 1s - loss: 0.0564 - accuracy: 0.9859 - val_loss: 0.1128 - val_accuracy: 0.9799 - 1s/epoch - 4ms/step\n",
            "Epoch 15/100\n",
            "352/352 - 2s - loss: 0.0535 - accuracy: 0.9854 - val_loss: 0.1129 - val_accuracy: 0.9805 - 2s/epoch - 4ms/step\n",
            "Epoch 16/100\n",
            "352/352 - 2s - loss: 0.0529 - accuracy: 0.9868 - val_loss: 0.1359 - val_accuracy: 0.9782 - 2s/epoch - 4ms/step\n",
            "Epoch 17/100\n",
            "352/352 - 2s - loss: 0.0528 - accuracy: 0.9867 - val_loss: 0.1164 - val_accuracy: 0.9801 - 2s/epoch - 4ms/step\n",
            "Epoch 18/100\n",
            "352/352 - 2s - loss: 0.0485 - accuracy: 0.9874 - val_loss: 0.1164 - val_accuracy: 0.9813 - 2s/epoch - 4ms/step\n",
            "Epoch 19/100\n",
            "352/352 - 2s - loss: 0.0467 - accuracy: 0.9885 - val_loss: 0.1491 - val_accuracy: 0.9797 - 2s/epoch - 4ms/step\n",
            "Epoch 20/100\n",
            "352/352 - 1s - loss: 0.0510 - accuracy: 0.9871 - val_loss: 0.1320 - val_accuracy: 0.9807 - 1s/epoch - 4ms/step\n",
            "Epoch 21/100\n",
            "352/352 - 2s - loss: 0.0434 - accuracy: 0.9897 - val_loss: 0.1310 - val_accuracy: 0.9813 - 2s/epoch - 4ms/step\n",
            "Epoch 22/100\n",
            "352/352 - 1s - loss: 0.0471 - accuracy: 0.9888 - val_loss: 0.1242 - val_accuracy: 0.9816 - 1s/epoch - 4ms/step\n",
            "Epoch 23/100\n",
            "352/352 - 2s - loss: 0.0433 - accuracy: 0.9892 - val_loss: 0.1403 - val_accuracy: 0.9805 - 2s/epoch - 4ms/step\n",
            "Epoch 24/100\n",
            "352/352 - 1s - loss: 0.0469 - accuracy: 0.9893 - val_loss: 0.1380 - val_accuracy: 0.9829 - 1s/epoch - 4ms/step\n",
            "Epoch 25/100\n",
            "352/352 - 1s - loss: 0.0435 - accuracy: 0.9896 - val_loss: 0.1470 - val_accuracy: 0.9818 - 1s/epoch - 4ms/step\n",
            "Epoch 26/100\n",
            "352/352 - 2s - loss: 0.0450 - accuracy: 0.9900 - val_loss: 0.1683 - val_accuracy: 0.9817 - 2s/epoch - 4ms/step\n",
            "Epoch 27/100\n",
            "352/352 - 2s - loss: 0.0478 - accuracy: 0.9888 - val_loss: 0.1517 - val_accuracy: 0.9813 - 2s/epoch - 4ms/step\n",
            "Epoch 28/100\n",
            "352/352 - 2s - loss: 0.0492 - accuracy: 0.9898 - val_loss: 0.1521 - val_accuracy: 0.9811 - 2s/epoch - 4ms/step\n",
            "Epoch 29/100\n",
            "352/352 - 2s - loss: 0.0440 - accuracy: 0.9905 - val_loss: 0.1543 - val_accuracy: 0.9815 - 2s/epoch - 4ms/step\n"
          ]
        },
        {
          "output_type": "display_data",
          "data": {
            "text/plain": [
              "<Figure size 432x288 with 1 Axes>"
            ],
            "image/png": "[encoded data removed]"
          },
          "metadata": {
            "needs_background": "light"
          }
        },
        {
          "output_type": "display_data",
          "data": {
            "text/plain": [
              "<Figure size 432x288 with 1 Axes>"
            ],
            "image/png": "[encoded data removed]"
          },
          "metadata": {
            "needs_background": "light"
          }
        },
        {
          "output_type": "stream",
          "name": "stdout",
          "text": [
            "313/313 [==============================] - 1s 2ms/step - loss: 0.1155 - accuracy: 0.9825\n",
            "['loss', 'accuracy']\n",
            "[0.11548136174678802, 0.9825000166893005]\n"
          ]
        }
      ]
    },
    {
      "cell_type": "markdown",
      "metadata": {
        "id": "YO3M0qh471Mq"
      },
      "source": [
        "### Comment on which techniques/methods you used to build the best model with the highest accuracy.  "
      ]
    },
    {
      "cell_type": "markdown",
      "source": [],
      "metadata": {
        "id": "kh3e_7xm6z4a"
      }
    }
  ]
}