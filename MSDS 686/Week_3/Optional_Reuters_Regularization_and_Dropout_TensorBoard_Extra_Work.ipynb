{
  "nbformat": 4,
  "nbformat_minor": 0,
  "metadata": {
    "colab": {
      "provenance": [],
      "include_colab_link": true
    },
    "kernelspec": {
      "display_name": "Python 3",
      "language": "python",
      "name": "python3"
    },
    "language_info": {
      "codemirror_mode": {
        "name": "ipython",
        "version": 3
      },
      "file_extension": ".py",
      "mimetype": "text/x-python",
      "name": "python",
      "nbconvert_exporter": "python",
      "pygments_lexer": "ipython3",
      "version": "3.7.1"
    }
  },
  "cells": [
    {
      "cell_type": "markdown",
      "metadata": {
        "id": "view-in-github",
        "colab_type": "text"
      },
      "source": [
        "<a href=\"https://colab.research.google.com/github/Mrsnellek/MSDS_686_22F8W2/blob/22F8W2/MSDS%20686/Week_3/Optional_Reuters_Regularization_and_Dropout_TensorBoard_Extra_Work.ipynb\" target=\"_parent\"><img src=\"https://colab.research.google.com/assets/colab-badge.svg\" alt=\"Open In Colab\"/></a>"
      ]
    },
    {
      "cell_type": "markdown",
      "metadata": {
        "id": "hz9jeqeH82dC"
      },
      "source": [
        "# Reuters Regularization and Dropout Using TensorBoard\n",
        "## Adapted from Deep Learning with Python by Francois Chollet\n",
        "#### Use the Keras Reuters dataset to classify news wires into 46 different categories.  Use regularization and stopearly call backs to improve your neural network."
      ]
    },
    {
      "cell_type": "code",
      "metadata": {
        "id": "Ddja0afs82dK"
      },
      "source": [
        "from IPython.core.display import display, HTML\n",
        "display(HTML(\"<style>.container { width:95% !important; }</style>\"))"
      ],
      "execution_count": null,
      "outputs": []
    },
    {
      "cell_type": "code",
      "metadata": {
        "id": "XmsqKzOw82dl"
      },
      "source": [
        "# Import all the necessary libraries and set the np and tf seed\n"
      ],
      "execution_count": null,
      "outputs": []
    },
    {
      "cell_type": "code",
      "metadata": {
        "id": "LOawNEAD82du"
      },
      "source": [
        "# Import the Reuters data set from the Keras library. https://keras.io/datasets/\n"
      ],
      "execution_count": null,
      "outputs": []
    },
    {
      "cell_type": "code",
      "metadata": {
        "id": "Qf6sV0l-82d2"
      },
      "source": [
        "# Define a function to vectorize the data.\n"
      ],
      "execution_count": null,
      "outputs": []
    },
    {
      "cell_type": "code",
      "metadata": {
        "id": "kt1tccdA82eA"
      },
      "source": [
        "# Vectorize the train_data and test_data\n"
      ],
      "execution_count": null,
      "outputs": []
    },
    {
      "cell_type": "code",
      "metadata": {
        "id": "FE1dXymq82eN"
      },
      "source": [
        "# Encode the labes to categorical. \n"
      ],
      "execution_count": null,
      "outputs": []
    },
    {
      "cell_type": "code",
      "metadata": {
        "id": "laGfvA9P82eX"
      },
      "source": [
        "# Split the data into training and validation\n"
      ],
      "execution_count": null,
      "outputs": []
    },
    {
      "cell_type": "markdown",
      "metadata": {
        "id": "Vd1qeunf82ek"
      },
      "source": [
        "# Let us try to improve on our model using TensorBoard and optimize the hyper-parameters.\n",
        "## This tutorial was adapted from these sources: https://www.tensorflow.org/tensorboard/get_started and https://towardsdatascience.com/tensorboard-hyperparameter-optimization-a51ef7af71f5"
      ]
    },
    {
      "cell_type": "code",
      "metadata": {
        "id": "oaD17CCf4YV9"
      },
      "source": [
        "# Import libaries needed for TensorBoard\n"
      ],
      "execution_count": null,
      "outputs": []
    },
    {
      "cell_type": "code",
      "metadata": {
        "id": "KxKYxLbt4YWF"
      },
      "source": [
        "# Clear old log files\n"
      ],
      "execution_count": null,
      "outputs": []
    },
    {
      "cell_type": "code",
      "metadata": {
        "id": "CuNAdENI4YWP"
      },
      "source": [
        "# Define the hyper-parameters to grid search\n",
        "\n",
        "# Write all the hyperpareters to file\n"
      ],
      "execution_count": null,
      "outputs": []
    },
    {
      "cell_type": "code",
      "metadata": {
        "id": "NXAcduhG4YWV"
      },
      "source": [
        "# Define the nerual net model.  Notice the hyperparameters added and the callbacks\n"
      ],
      "execution_count": null,
      "outputs": []
    },
    {
      "cell_type": "code",
      "metadata": {
        "id": "hgTdpH8i4YWn"
      },
      "source": [
        "# Create a function to save hyperparamters and accuray output to file\n",
        "\n"
      ],
      "execution_count": null,
      "outputs": []
    },
    {
      "cell_type": "code",
      "metadata": {
        "id": "r7K00Wnh4YWs"
      },
      "source": [
        "# Loop through hyperparameters and save outputs to file\n"
      ],
      "execution_count": null,
      "outputs": []
    },
    {
      "cell_type": "code",
      "metadata": {
        "scrolled": true,
        "id": "E67FYpVq4YWz"
      },
      "source": [
        "# Load tensorboard and view output.  \n"
      ],
      "execution_count": null,
      "outputs": []
    }
  ]
}