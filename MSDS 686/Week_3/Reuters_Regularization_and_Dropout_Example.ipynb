{
  "nbformat": 4,
  "nbformat_minor": 0,
  "metadata": {
    "kernelspec": {
      "name": "python3",
      "display_name": "Python 3"
    },
    "language_info": {
      "codemirror_mode": {
        "name": "ipython",
        "version": 3
      },
      "file_extension": ".py",
      "mimetype": "text/x-python",
      "name": "python",
      "nbconvert_exporter": "python",
      "pygments_lexer": "ipython3",
      "version": "3.6.8"
    },
    "colab": {
      "provenance": [],
      "collapsed_sections": [],
      "include_colab_link": true
    },
    "accelerator": "GPU"
  },
  "cells": [
    {
      "cell_type": "markdown",
      "metadata": {
        "id": "view-in-github",
        "colab_type": "text"
      },
      "source": [
        "<a href=\"https://colab.research.google.com/github/Mrsnellek/MSDS_686/blob/22F8W2/MSDS%20686/Week_3/Reuters_Regularization_and_Dropout_Example.ipynb\" target=\"_parent\"><img src=\"https://colab.research.google.com/assets/colab-badge.svg\" alt=\"Open In Colab\"/></a>"
      ]
    },
    {
      "cell_type": "markdown",
      "metadata": {
        "id": "8EXUxVP1_KJz"
      },
      "source": [
        "### This Example was adapted from Deep Learning with Python Chapters 5 and 7 Chollet, F. (2021). Deep Learning with Python (2nd ed.). Greenwich, CT, USA: Manning Publications Co."
      ]
    },
    {
      "cell_type": "code",
      "metadata": {
        "id": "i2VEtpfG_KJ3"
      },
      "source": [
        "from IPython.core.display import display, HTML\n",
        "display(HTML(\"<style>.container { width:95% !important; }</style>\"))"
      ],
      "execution_count": null,
      "outputs": []
    },
    {
      "cell_type": "markdown",
      "metadata": {
        "id": "OeSG7I-q_KKD"
      },
      "source": [
        "## We will improve our previous Reuters neural net by adjusting learning rate, and adding dropout, and early stopping."
      ]
    },
    {
      "cell_type": "code",
      "metadata": {
        "id": "E2itik6K_KKF"
      },
      "source": [
        "from tensorflow.keras.datasets import reuters\n",
        "import numpy as np\n",
        "np.random.seed(1)\n",
        "import pandas as pd\n",
        "import matplotlib.pyplot as plt\n",
        "from sklearn.model_selection import train_test_split\n",
        "(train_data, train_labels), (test_data, test_labels) = reuters.load_data(num_words=10000)\n",
        "# When we import the data we only select the 10,000 most common words in the Reuters dataset."
      ],
      "execution_count": null,
      "outputs": []
    },
    {
      "cell_type": "markdown",
      "metadata": {
        "id": "FDBAuQ58_KKM"
      },
      "source": [
        "## Previous Baseline Model"
      ]
    },
    {
      "cell_type": "code",
      "metadata": {
        "id": "gM-KLVv2_KKO"
      },
      "source": [
        "# Remember, we cannot add a single vector to a neural network. The data needs to be converted to a tensor.  This function will create a tenor that is 25000 by 10000. 25000 is the number of samples\n",
        "# and 10000 is the number of uniqe words. The tensor will have all zeros except for ones where that word is in the rewview\n",
        "def vectorize_sequences(sequences, dimension=10000):\n",
        "    results = np.zeros((len(sequences), dimension))\n",
        "    for i, sequence in enumerate(sequences):\n",
        "        results[i, sequence] = 1.\n",
        "    return results"
      ],
      "execution_count": null,
      "outputs": []
    },
    {
      "cell_type": "code",
      "metadata": {
        "id": "8mgPWgtL_KKV"
      },
      "source": [
        "# Apply the vectorize function to the train_data and test_data\n",
        "x_train = vectorize_sequences(train_data)\n",
        "x_test = vectorize_sequences(test_data)"
      ],
      "execution_count": null,
      "outputs": []
    },
    {
      "cell_type": "code",
      "metadata": {
        "id": "jifkQPkB_KKZ"
      },
      "source": [
        "# Convert the y targets to categorical\n",
        "from keras.utils.np_utils import to_categorical\n",
        "y_train = to_categorical(train_labels)\n",
        "y_test = to_categorical(test_labels)"
      ],
      "execution_count": null,
      "outputs": []
    },
    {
      "cell_type": "code",
      "metadata": {
        "id": "Nu275BlJ_KKe"
      },
      "source": [
        "# Split the data into training and validataion sets\n",
        "x_train, x_val, y_train, y_val = train_test_split(x_train, y_train, test_size=0.25, random_state=42)"
      ],
      "execution_count": null,
      "outputs": []
    },
    {
      "cell_type": "code",
      "metadata": {
        "id": "bpsoMbBl_KKk"
      },
      "source": [
        "# Import the keras libraries\n",
        "from tensorflow import keras\n",
        "from tensorflow.keras import models, layers, regularizers\n",
        "from tensorflow.keras.layers import Flatten, Dense, Dropout\n",
        "from tensorflow.keras.callbacks import EarlyStopping\n",
        "from tensorflow.keras import backend"
      ],
      "execution_count": null,
      "outputs": []
    },
    {
      "cell_type": "code",
      "metadata": {
        "id": "R6zXWxz-_KKr"
      },
      "source": [
        "# Build the model architecture.  Input shape must equal the number of vectors or (unique words).\n",
        "# Add one hidden layer with 64 nodes.  Keep the activation function as 'relu'\n",
        "# Since we have a multiclass classification, the output activation function will be 'softmax'\n",
        "# We will keep with the 'rmsprop' optomizer function, loss = 'categorical_crossentropy', and metrics = 'accuracy'\n",
        "backend.clear_session()\n",
        "model = models.Sequential()\n",
        "model.add(layers.Dense(64, activation = 'relu', input_shape = (10000,)))\n",
        "model.add(layers.Dense(64, activation = 'relu'))\n",
        "model.add(layers.Dense(46, activation = 'softmax'))\n",
        "model.compile(optimizer='rmsprop',\n",
        "             loss = 'categorical_crossentropy',\n",
        "             metrics = ['accuracy'])"
      ],
      "execution_count": null,
      "outputs": []
    },
    {
      "cell_type": "code",
      "metadata": {
        "id": "ynS0_PBj_KKv"
      },
      "source": [
        "# Fit the model to the training data. \n",
        "baseline_history = model.fit(x_train,\n",
        "                   y_train,\n",
        "                   epochs = 50,\n",
        "                   batch_size = 512,\n",
        "                   validation_data = (x_val, y_val))"
      ],
      "execution_count": null,
      "outputs": []
    },
    {
      "cell_type": "code",
      "metadata": {
        "id": "2RFUMid2COsL"
      },
      "source": [
        "baseline_history = pd.DataFrame(baseline_history.history)\n",
        "print(baseline_history)"
      ],
      "execution_count": null,
      "outputs": []
    },
    {
      "cell_type": "code",
      "metadata": {
        "id": "kBLXN2Tv_KK1"
      },
      "source": [
        "# Let's plot the Loss vs Epochs and Accuracy vs Epochs\n",
        "baseline_loss_values = baseline_history['loss']\n",
        "baseline_val_loss_values = baseline_history['val_loss']\n",
        "baseline_acc_values = baseline_history['accuracy']\n",
        "baseline_val_acc_values = baseline_history['val_accuracy']\n",
        "epochs = range(1, len(baseline_history['accuracy']) + 1)"
      ],
      "execution_count": null,
      "outputs": []
    },
    {
      "cell_type": "code",
      "metadata": {
        "id": "wIxVYjjD_KK6"
      },
      "source": [
        "plt.plot(epochs, baseline_loss_values, 'bo', label = 'Baseline Training loss')\n",
        "plt.plot(epochs, baseline_val_loss_values, 'b', label = 'Baseline Validation loss')\n",
        "plt.title('Baseline Training and validation loss')\n",
        "plt.xlabel('Epochs')\n",
        "plt.ylabel('Baseline Loss')\n",
        "plt.legend()\n",
        "plt.show()"
      ],
      "execution_count": null,
      "outputs": []
    },
    {
      "cell_type": "code",
      "metadata": {
        "id": "9jBksF8Y_KK-"
      },
      "source": [
        "plt.plot(epochs, baseline_acc_values, 'bo', label = 'Baseline Training accuracy')\n",
        "plt.plot(epochs, baseline_val_acc_values, 'b', label = 'Baseline Validation accuracy')\n",
        "plt.title('Baseline Training and Validation Accuracy')\n",
        "plt.xlabel('Epochs')\n",
        "plt.ylabel('Baseline Accuracy')\n",
        "plt.legend()\n",
        "plt.show()"
      ],
      "execution_count": null,
      "outputs": []
    },
    {
      "cell_type": "markdown",
      "metadata": {
        "id": "JteALhvE_KLH"
      },
      "source": [
        "## How does learning rate affect accuracy?\n",
        "RMSprop default learning rate = 0.001. https://keras.io/api/optimizers/rmsprop/ "
      ]
    },
    {
      "cell_type": "code",
      "metadata": {
        "id": "dwlc5k8U_KLM"
      },
      "source": [
        "# Change the learning rate to 1\n",
        "backend.clear_session()\n",
        "model = models.Sequential()\n",
        "model.add(layers.Dense(64, activation = 'relu', input_shape = (10000,)))\n",
        "model.add(layers.Dense(64, activation = 'relu'))\n",
        "model.add(layers.Dense(46, activation = 'softmax'))\n",
        "\n",
        "model.compile(optimizer=keras.optimizers.RMSprop(1),\n",
        "             loss = 'categorical_crossentropy',\n",
        "             metrics = ['accuracy'])\n",
        "\n",
        "lr_history = model.fit(x_train,\n",
        "              y_train,\n",
        "              epochs = 50,\n",
        "              batch_size = 500,\n",
        "              validation_data = (x_val, y_val))\n",
        "\n",
        "history_dict = lr_history.history\n",
        "loss_values = history_dict['loss']\n",
        "val_loss_values = history_dict['val_loss']\n",
        "acc_values = history_dict['accuracy']\n",
        "val_acc_values = history_dict['val_accuracy']\n",
        "epochs = range(1, len(history_dict['accuracy']) + 1)\n",
        "\n",
        "plt.plot(epochs, baseline_val_loss_values, 'bo', label = 'Baseline Training loss')\n",
        "plt.plot(epochs, val_loss_values, 'b', label = 'Validation loss')\n",
        "plt.title('Baseline and current and validation loss')\n",
        "plt.xlabel('Epochs')\n",
        "plt.ylabel('Loss')\n",
        "plt.legend()\n",
        "plt.show()\n",
        "\n",
        "plt.plot(epochs, baseline_val_acc_values, 'bo', label = 'Baseline Training accuracy')\n",
        "plt.plot(epochs, val_acc_values, 'b', label = 'Validation accuracy')\n",
        "plt.title('Baseline Training and Validation Accuracy')\n",
        "plt.xlabel('Epochs')\n",
        "plt.ylabel('Accuracy')\n",
        "plt.legend()\n",
        "plt.show()\n",
        "\n",
        "results = model.evaluate(x_test, y_test)\n",
        "print(model.metrics_names)\n",
        "print(results)"
      ],
      "execution_count": null,
      "outputs": []
    },
    {
      "cell_type": "markdown",
      "source": [
        "Not very good.  The learning rate is too high and cannot converge on a decent accuracy. What happens if we lower the learning to 0.0005?"
      ],
      "metadata": {
        "id": "eo7jUzvRKPzV"
      }
    },
    {
      "cell_type": "code",
      "source": [
        "# Change the learning rate to 0.0005\n",
        "backend.clear_session()\n",
        "model = models.Sequential()\n",
        "model.add(layers.Dense(64, activation = 'relu', input_shape = (10000,)))\n",
        "model.add(layers.Dense(64, activation = 'relu'))\n",
        "model.add(layers.Dense(46, activation = 'softmax'))\n",
        "\n",
        "model.compile(optimizer=keras.optimizers.RMSprop(0.0005),\n",
        "             loss = 'categorical_crossentropy',\n",
        "             metrics = ['accuracy'])\n",
        "\n",
        "lr_history = model.fit(x_train,\n",
        "              y_train,\n",
        "              epochs = 50,\n",
        "              batch_size = 500,\n",
        "              validation_data = (x_val, y_val))\n",
        "\n",
        "history_dict = lr_history.history\n",
        "loss_values = history_dict['loss']\n",
        "val_loss_values = history_dict['val_loss']\n",
        "acc_values = history_dict['accuracy']\n",
        "val_acc_values = history_dict['val_accuracy']\n",
        "epochs = range(1, len(history_dict['accuracy']) + 1)\n",
        "\n",
        "plt.plot(epochs, baseline_val_loss_values, 'bo', label = 'Baseline Training loss')\n",
        "plt.plot(epochs, val_loss_values, 'b', label = 'Validation loss')\n",
        "plt.title('Baseline and current and validation loss')\n",
        "plt.xlabel('Epochs')\n",
        "plt.ylabel('Loss')\n",
        "plt.legend()\n",
        "plt.show()\n",
        "\n",
        "plt.plot(epochs, baseline_val_acc_values, 'bo', label = 'Baseline Training accuracy')\n",
        "plt.plot(epochs, val_acc_values, 'b', label = 'Validation accuracy')\n",
        "plt.title('Baseline Training and Validation Accuracy')\n",
        "plt.xlabel('Epochs')\n",
        "plt.ylabel('Accuracy')\n",
        "plt.legend()\n",
        "plt.show()\n",
        "\n",
        "results = model.evaluate(x_test, y_test)\n",
        "print(model.metrics_names)\n",
        "print(results)"
      ],
      "metadata": {
        "id": "4_MneZsZGfCv"
      },
      "execution_count": null,
      "outputs": []
    },
    {
      "cell_type": "markdown",
      "source": [
        "Lowering the learning rate to 0.005 creates a nice loss and accuracy curve that keeps improving."
      ],
      "metadata": {
        "id": "DKQyOQgwLooJ"
      }
    },
    {
      "cell_type": "markdown",
      "source": [
        "## Using a learning_rate = 0.0005 let us adjust the batchsize."
      ],
      "metadata": {
        "id": "gjUxROb1MAkv"
      }
    },
    {
      "cell_type": "code",
      "source": [
        "# Lower batch size to 128\n",
        "backend.clear_session()\n",
        "model = models.Sequential()\n",
        "model.add(layers.Dense(64, activation = 'relu', input_shape = (10000,)))\n",
        "model.add(layers.Dense(64, activation = 'relu'))\n",
        "model.add(layers.Dense(46, activation = 'softmax'))\n",
        "\n",
        "model.compile(optimizer=keras.optimizers.RMSprop(0.0005),\n",
        "             loss = 'categorical_crossentropy',\n",
        "             metrics = ['accuracy'])\n",
        "\n",
        "history = model.fit(x_train,\n",
        "              y_train,\n",
        "              epochs = 50,\n",
        "              batch_size = 128,\n",
        "              validation_data = (x_val, y_val),\n",
        "              verbose = 2)\n",
        "\n",
        "history_dict = history.history\n",
        "loss_values = history_dict['loss']\n",
        "val_loss_values = history_dict['val_loss']\n",
        "acc_values = history_dict['accuracy']\n",
        "val_acc_values = history_dict['val_accuracy']\n",
        "epochs = range(1, len(history_dict['accuracy']) + 1)\n",
        "\n",
        "plt.plot(epochs, baseline_val_loss_values, 'bo', label = 'Baseline Training loss')\n",
        "plt.plot(epochs, val_loss_values, 'b', label = 'Validation loss')\n",
        "plt.title('Baseline and current and validation loss')\n",
        "plt.xlabel('Epochs')\n",
        "plt.ylabel('Loss')\n",
        "plt.legend()\n",
        "plt.show()\n",
        "\n",
        "plt.plot(epochs, baseline_val_acc_values, 'bo', label = 'Baseline Training accuracy')\n",
        "plt.plot(epochs, val_acc_values, 'b', label = 'Validation accuracy')\n",
        "plt.title('Baseline Training and Validation Accuracy')\n",
        "plt.xlabel('Epochs')\n",
        "plt.ylabel('Accuracy')\n",
        "plt.legend()\n",
        "plt.show()\n",
        "\n",
        "results = model.evaluate(x_test, y_test)\n",
        "print(model.metrics_names)\n",
        "print(results)"
      ],
      "metadata": {
        "id": "crtLuS-oMh2u"
      },
      "execution_count": null,
      "outputs": []
    },
    {
      "cell_type": "code",
      "source": [
        "# Increase batchsize to 1024\n",
        "backend.clear_session()\n",
        "model = models.Sequential()\n",
        "model.add(layers.Dense(64, activation = 'relu', input_shape = (10000,)))\n",
        "model.add(layers.Dense(64, activation = 'relu'))\n",
        "model.add(layers.Dense(46, activation = 'softmax'))\n",
        "\n",
        "model.compile(optimizer=keras.optimizers.RMSprop(0.0005),\n",
        "             loss = 'categorical_crossentropy',\n",
        "             metrics = ['accuracy'])\n",
        "\n",
        "history = model.fit(x_train,\n",
        "              y_train,\n",
        "              epochs = 50,\n",
        "              batch_size = 1024,\n",
        "              validation_data = (x_val, y_val))\n",
        "\n",
        "history_dict = history.history\n",
        "loss_values = history_dict['loss']\n",
        "val_loss_values = history_dict['val_loss']\n",
        "acc_values = history_dict['accuracy']\n",
        "val_acc_values = history_dict['val_accuracy']\n",
        "epochs = range(1, len(history_dict['accuracy']) + 1)\n",
        "\n",
        "plt.plot(epochs, baseline_val_loss_values, 'bo', label = 'Baseline Training loss')\n",
        "plt.plot(epochs, val_loss_values, 'b', label = 'Validation loss')\n",
        "plt.title('Baseline and current and validation loss')\n",
        "plt.xlabel('Epochs')\n",
        "plt.ylabel('Loss')\n",
        "plt.legend()\n",
        "plt.show()\n",
        "\n",
        "plt.plot(epochs, baseline_val_acc_values, 'bo', label = 'Baseline Training accuracy')\n",
        "plt.plot(epochs, val_acc_values, 'b', label = 'Validation accuracy')\n",
        "plt.title('Baseline Training and Validation Accuracy')\n",
        "plt.xlabel('Epochs')\n",
        "plt.ylabel('Accuracy')\n",
        "plt.legend()\n",
        "plt.show()\n",
        "\n",
        "results = model.evaluate(x_test, y_test)\n",
        "print(model.metrics_names)\n",
        "print(results)"
      ],
      "metadata": {
        "id": "aPZVqwIpM-Kq"
      },
      "execution_count": null,
      "outputs": []
    },
    {
      "cell_type": "markdown",
      "source": [
        "## It looks like the large batch size imporves the accuracy over the baseline. \n",
        "\n",
        "\n",
        "## Keeping the 0.0005 learning rate and 1024 batch size let's add drop out."
      ],
      "metadata": {
        "id": "zSBBAMIQuzhG"
      }
    },
    {
      "cell_type": "code",
      "source": [
        "# Add dropout\n",
        "backend.clear_session()\n",
        "model = models.Sequential()\n",
        "model.add(layers.Dense(64, activation = 'relu', input_shape = (10000,)))\n",
        "model.add(layers.Dropout(0.2))\n",
        "model.add(layers.Dense(64, activation = 'relu'))\n",
        "model.add(layers.Dropout(0.2))\n",
        "model.add(layers.Dense(46, activation = 'softmax'))\n",
        "\n",
        "model.compile(optimizer=keras.optimizers.RMSprop(0.0005),\n",
        "             loss = 'categorical_crossentropy',\n",
        "             metrics = ['accuracy'])\n",
        "\n",
        "history = model.fit(x_train,\n",
        "              y_train,\n",
        "              epochs = 50,\n",
        "              batch_size = 1024,\n",
        "              validation_data = (x_val, y_val),\n",
        "              verbose = 2)\n",
        "\n",
        "history_dict = history.history\n",
        "loss_values = history_dict['loss']\n",
        "val_loss_values = history_dict['val_loss']\n",
        "acc_values = history_dict['accuracy']\n",
        "val_acc_values = history_dict['val_accuracy']\n",
        "epochs = range(1, len(history_dict['accuracy']) + 1)\n",
        "\n",
        "plt.plot(epochs, baseline_val_loss_values, 'bo', label = 'Baseline Training loss')\n",
        "plt.plot(epochs, val_loss_values, 'b', label = 'Validation loss')\n",
        "plt.title('Baseline and current and validation loss')\n",
        "plt.xlabel('Epochs')\n",
        "plt.ylabel('Loss')\n",
        "plt.legend()\n",
        "plt.show()\n",
        "\n",
        "plt.plot(epochs, baseline_val_acc_values, 'bo', label = 'Baseline Training accuracy')\n",
        "plt.plot(epochs, val_acc_values, 'b', label = 'Validation accuracy')\n",
        "plt.title('Baseline Training and Validation Accuracy')\n",
        "plt.xlabel('Epochs')\n",
        "plt.ylabel('Accuracy')\n",
        "plt.legend()\n",
        "plt.show()\n",
        "\n",
        "results = model.evaluate(x_test, y_test)\n",
        "print(model.metrics_names)\n",
        "print(results)"
      ],
      "metadata": {
        "id": "5Y1Bd-v8vdSL"
      },
      "execution_count": null,
      "outputs": []
    },
    {
      "cell_type": "markdown",
      "source": [
        "## We keep improving.\n",
        "\n"
      ],
      "metadata": {
        "id": "13YtVhzR-MIe"
      }
    },
    {
      "cell_type": "code",
      "source": [
        "# Add Early Stoping\n",
        "backend.clear_session()\n",
        "model = models.Sequential()\n",
        "model.add(layers.Dense(64, activation = 'relu', input_shape = (10000,)))\n",
        "model.add(layers.Dropout(0.2))\n",
        "model.add(layers.Dense(64, activation = 'relu'))\n",
        "model.add(layers.Dropout(0.2))\n",
        "model.add(layers.Dense(46, activation = 'softmax'))\n",
        "\n",
        "model.compile(optimizer=keras.optimizers.RMSprop(0.0005),\n",
        "             loss = 'categorical_crossentropy',\n",
        "             metrics = ['accuracy'])\n",
        "\n",
        "history = model.fit(x_train,\n",
        "              y_train,\n",
        "              epochs = 50,\n",
        "              batch_size = 1024,\n",
        "              validation_data = (x_val, y_val),\n",
        "              verbose = 2,\n",
        "              callbacks=[EarlyStopping(monitor='val_accuracy', patience=5, restore_best_weights = True)])\n",
        "\n",
        "history_dict = history.history\n",
        "loss_values = history_dict['loss']\n",
        "val_loss_values = history_dict['val_loss']\n",
        "acc_values = history_dict['accuracy']\n",
        "val_acc_values = history_dict['val_accuracy']\n",
        "epochs = range(1, len(history_dict['accuracy']) + 1)\n",
        "\n",
        "plt.plot(epochs, val_loss_values, 'bo', label = 'Validation loss')\n",
        "plt.title('Validation loss')\n",
        "plt.xlabel('Epochs')\n",
        "plt.ylabel('Loss')\n",
        "plt.legend()\n",
        "plt.show()\n",
        "\n",
        "plt.plot(epochs, val_acc_values, 'bo', label = 'Validation Accuracy')\n",
        "plt.title('Validation Accuracy')\n",
        "plt.xlabel('Epochs')\n",
        "plt.ylabel('Accuracy')\n",
        "plt.legend()\n",
        "plt.show()\n",
        "\n",
        "results = model.evaluate(x_test, y_test)\n",
        "print(model.metrics_names)\n",
        "print(results)"
      ],
      "metadata": {
        "id": "vgRQ2DOZ-RjU"
      },
      "execution_count": null,
      "outputs": []
    },
    {
      "cell_type": "code",
      "source": [
        "# Make a better, deeper model.\n",
        "backend.clear_session()\n",
        "model = models.Sequential()\n",
        "model.add(layers.Dense(256, activation = 'relu', input_shape = (10000,)))\n",
        "model.add(layers.Dropout(0.2))\n",
        "model.add(layers.Dense(128, activation = 'relu'))\n",
        "model.add(layers.Dense(46, activation = 'softmax'))\n",
        "\n",
        "model.compile(optimizer=keras.optimizers.RMSprop(0.0005),\n",
        "             loss = 'categorical_crossentropy',\n",
        "             metrics = ['accuracy'])\n",
        "\n",
        "history = model.fit(x_train,\n",
        "              y_train,\n",
        "              epochs = 100,\n",
        "              batch_size = 1024,\n",
        "              validation_data = (x_val, y_val),\n",
        "              verbose = 2,\n",
        "              callbacks=[EarlyStopping(monitor='val_accuracy', patience=3, restore_best_weights = True)])\n",
        "\n",
        "history_dict = history.history\n",
        "loss_values = history_dict['loss']\n",
        "val_loss_values = history_dict['val_loss']\n",
        "acc_values = history_dict['accuracy']\n",
        "val_acc_values = history_dict['val_accuracy']\n",
        "epochs = range(1, len(history_dict['accuracy']) + 1)\n",
        "\n",
        "plt.plot(epochs, val_loss_values, 'bo', label = 'Validation loss')\n",
        "plt.title('Validation loss')\n",
        "plt.xlabel('Epochs')\n",
        "plt.ylabel('Loss')\n",
        "plt.legend()\n",
        "plt.show()\n",
        "\n",
        "plt.plot(epochs, val_acc_values, 'bo', label = 'Validation Accuracy')\n",
        "plt.title('Validation Accuracy')\n",
        "plt.xlabel('Epochs')\n",
        "plt.ylabel('Accuracy')\n",
        "plt.legend()\n",
        "plt.show()\n",
        "\n",
        "results = model.evaluate(x_test, y_test)\n",
        "print(model.metrics_names)\n",
        "print(results)"
      ],
      "metadata": {
        "id": "6DVICmBeBIo7"
      },
      "execution_count": null,
      "outputs": []
    }
  ]
}